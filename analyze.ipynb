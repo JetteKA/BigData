{
  "nbformat": 4,
  "nbformat_minor": 0,
  "metadata": {
    "colab": {
      "name": "analyze",
      "provenance": [],
      "collapsed_sections": [],
      "mount_file_id": "172yiVNsNJ1XarbkT4GCUvLtpOZ5jnd4V",
      "authorship_tag": "ABX9TyOJ0qZAXXJthE+jMKK74vta",
      "include_colab_link": true
    },
    "kernelspec": {
      "name": "python3",
      "display_name": "Python 3"
    }
  },
  "cells": [
    {
      "cell_type": "markdown",
      "metadata": {
        "id": "view-in-github",
        "colab_type": "text"
      },
      "source": [
        "<a href=\"https://colab.research.google.com/github/JetteKA/BigData/blob/master/analyze.ipynb\" target=\"_parent\"><img src=\"https://colab.research.google.com/assets/colab-badge.svg\" alt=\"Open In Colab\"/></a>"
      ]
    },
    {
      "cell_type": "code",
      "metadata": {
        "id": "_siiCIzxlNoK",
        "colab_type": "code",
        "colab": {}
      },
      "source": [
        "import numpy as np\n",
        "import matplotlib.pyplot as plt\n",
        "from numpy import loadtxt\n",
        "import numpy as np"
      ],
      "execution_count": 0,
      "outputs": []
    },
    {
      "cell_type": "code",
      "metadata": {
        "id": "L1kODr9EmjCE",
        "colab_type": "code",
        "colab": {}
      },
      "source": [
        "ALSS = loadtxt(\"drive/My Drive/BD/AL_50_acc.txt\", delimiter=\"\\n\")"
      ],
      "execution_count": 0,
      "outputs": []
    },
    {
      "cell_type": "code",
      "metadata": {
        "id": "NUoh4rOdmwtt",
        "colab_type": "code",
        "colab": {}
      },
      "source": [
        "CNN_retrain = loadtxt(\"drive/My Drive/BD/CNN_retrain_acc.txt\", delimiter=\"\\n\")"
      ],
      "execution_count": 0,
      "outputs": []
    },
    {
      "cell_type": "code",
      "metadata": {
        "id": "HHBwTy-Vmxkr",
        "colab_type": "code",
        "colab": {}
      },
      "source": [
        "CNN = loadtxt(\"drive/My Drive/BD/CNN_single_acc.txt\", delimiter=\"\\n\")"
      ],
      "execution_count": 0,
      "outputs": []
    },
    {
      "cell_type": "code",
      "metadata": {
        "id": "9HajFiBjqTLg",
        "colab_type": "code",
        "colab": {}
      },
      "source": [
        "num_labels = loadtxt(\"drive/My Drive/BD/CNN_retrain_num_labels.txt\", delimiter=\"\\n\")"
      ],
      "execution_count": 0,
      "outputs": []
    },
    {
      "cell_type": "code",
      "metadata": {
        "id": "nXdpI1CsuQJQ",
        "colab_type": "code",
        "colab": {}
      },
      "source": [
        "RALSS = loadtxt(\"drive/My Drive/BD/randomactivesemi_50_acc.txt\")"
      ],
      "execution_count": 0,
      "outputs": []
    },
    {
      "cell_type": "code",
      "metadata": {
        "id": "Rjqf6A2hu5OM",
        "colab_type": "code",
        "colab": {}
      },
      "source": [
        "RAL = loadtxt(\"drive/My Drive/BD/randomactive_50_acc.txt\")"
      ],
      "execution_count": 0,
      "outputs": []
    },
    {
      "cell_type": "code",
      "metadata": {
        "id": "oSX63bLgvdUc",
        "colab_type": "code",
        "colab": {}
      },
      "source": [
        "AL = loadtxt(\"drive/My Drive/BD/onlyAL_50_acc.txt\")"
      ],
      "execution_count": 0,
      "outputs": []
    },
    {
      "cell_type": "code",
      "metadata": {
        "id": "jUbGCmmuvpJG",
        "colab_type": "code",
        "colab": {}
      },
      "source": [
        "SS = loadtxt(\"drive/My Drive/BD/semiretrain_50_acc.txt\")"
      ],
      "execution_count": 0,
      "outputs": []
    },
    {
      "cell_type": "code",
      "metadata": {
        "id": "eH70YTj7qg_2",
        "colab_type": "code",
        "outputId": "e6959ae7-9570-44c0-ac0c-3352e9df99cb",
        "colab": {
          "base_uri": "https://localhost:8080/",
          "height": 34
        }
      },
      "source": [
        "print(len(ALSS), len(CNN_retrain), len(CNN), len(num_labels), len(RALSS), len(RAL), len(AL), len(SS))"
      ],
      "execution_count": 0,
      "outputs": [
        {
          "output_type": "stream",
          "text": [
            "200 200 200 200 200 200 200 200\n"
          ],
          "name": "stdout"
        }
      ]
    },
    {
      "cell_type": "code",
      "metadata": {
        "id": "iySljkk2qp7s",
        "colab_type": "code",
        "outputId": "0b160220-2a1e-4483-f9cd-cee0790ad341",
        "colab": {
          "base_uri": "https://localhost:8080/",
          "height": 281
        }
      },
      "source": [
        "plt.plot(num_labels, ALSS, label=\"Semi-supervised active learning with clustering\", color=\"#d73027\")\n",
        "plt.plot(num_labels, RALSS, label=\"Semi-supervised active learning with random initialisation\", color=\"#fc8d59\")\n",
        "plt.plot(num_labels, AL, label=\"Active learning with clustering\", color=\"#762a83\")\n",
        "plt.plot(num_labels, RAL, label=\"Active learning with random initialisation\", color=\"#af8dc3\")\n",
        "plt.plot(num_labels, CNN_retrain, label=\"Supervised learning with retraining\", color=\"#01665e\")\n",
        "plt.plot(num_labels, CNN, label=\"Supervised learning without retraining\", color=\"#5ab4ac\")\n",
        "# plt.plot(num_labels[1:], SS[1:], label=\"Semi-supervised learning\", color=\"#4d4d4d\")\n",
        "# plt.xlabel('Number of pseudo-labelled images')\n",
        "plt.xlabel('Number of manually labelled images')\n",
        "plt.ylabel(\"Accuracy\")\n",
        "plt.axis(ymin=0, xmin=0, ymax=1.01)\n",
        "plt.yticks(np.arange(0, 1.01, 0.1))\n",
        "plt.xticks(np.arange(0, 10000.0001, 1000))\n",
        "plt.grid()\n",
        "plt.legend(loc='lower left')\n",
        "plt.savefig(\"drive/My Drive/BD/allbutSS.png\")"
      ],
      "execution_count": 0,
      "outputs": [
        {
          "output_type": "display_data",
          "data": {
            "image/png": "[encoded data removed]",
            "text/plain": [
              "<Figure size 432x288 with 1 Axes>"
            ]
          },
          "metadata": {
            "tags": []
          }
        }
      ]
    },
    {
      "cell_type": "code",
      "metadata": {
        "id": "3euYLm-vrCZZ",
        "colab_type": "code",
        "outputId": "b0d94f62-a459-40ee-fdb7-259a84d9009d",
        "colab": {
          "base_uri": "https://localhost:8080/",
          "height": 298
        }
      },
      "source": [
        "# plt.plot(num_labels, ALSS, label=\"Semi-Supervised Active Learning with clustering\")\n",
        "# plt.plot(num_labels, RALSS, label=\"Semi-supervised active learning with random initialisation\")\n",
        "# plt.plot(num_labels, AL, label=\"Active learning with clustering\")\n",
        "# plt.plot(num_labels, RAL, label=\"Active learning with random initialisation\")\n",
        "plt.plot(num_labels, CNN_retrain, label=\"Supervised learning with retraining\")\n",
        "plt.plot(num_labels, CNN, label=\"Supervised learning without retraining\")\n",
        "plt.xlabel('Number of labelled images')\n",
        "plt.axis(ymin=0, xmin=0, ymax=1.01)\n",
        "plt.legend()"
      ],
      "execution_count": 0,
      "outputs": [
        {
          "output_type": "execute_result",
          "data": {
            "text/plain": [
              "<matplotlib.legend.Legend at 0x7f249c2aff98>"
            ]
          },
          "metadata": {
            "tags": []
          },
          "execution_count": 64
        },
        {
          "output_type": "display_data",
          "data": {
            "image/png": "[encoded data removed]",
            "text/plain": [
              "<Figure size 432x288 with 1 Axes>"
            ]
          },
          "metadata": {
            "tags": []
          }
        }
      ]
    },
    {
      "cell_type": "code",
      "metadata": {
        "id": "4NGJPNDxVHN-",
        "colab_type": "code",
        "outputId": "33a6a027-73f0-46dd-b7d3-b72ff9c4da30",
        "colab": {
          "base_uri": "https://localhost:8080/",
          "height": 298
        }
      },
      "source": [
        "plt.plot(num_labels, ALSS, label=\"Semi-Supervised Active Learning with clustering\")\n",
        "plt.plot(num_labels, RALSS, label=\"Semi-supervised active learning with random initialisation\")\n",
        "# plt.plot(num_labels, AL, label=\"Active learning with clustering\")\n",
        "# plt.plot(num_labels, RAL, label=\"Active learning with random initialisation\")\n",
        "# plt.plot(num_labels, CNN_retrain, label=\"Supervised learning with retraining\")\n",
        "# plt.plot(num_labels, CNN, label=\"Supervised learning without retraining\")\n",
        "plt.xlabel('Number of labelled images')\n",
        "plt.ylabel(\"Accuracy\")\n",
        "plt.axis(ymin=0, xmin=0, ymax=1.01)\n",
        "plt.legend()"
      ],
      "execution_count": 0,
      "outputs": [
        {
          "output_type": "execute_result",
          "data": {
            "text/plain": [
              "<matplotlib.legend.Legend at 0x7f249cca6e48>"
            ]
          },
          "metadata": {
            "tags": []
          },
          "execution_count": 65
        },
        {
          "output_type": "display_data",
          "data": {
            "image/png": "[encoded data removed]",
            "text/plain": [
              "<Figure size 432x288 with 1 Axes>"
            ]
          },
          "metadata": {
            "tags": []
          }
        }
      ]
    },
    {
      "cell_type": "code",
      "metadata": {
        "id": "lBYDZKBUVhts",
        "colab_type": "code",
        "outputId": "7cc79958-ee92-4c4c-b293-fe88b3c782c0",
        "colab": {
          "base_uri": "https://localhost:8080/",
          "height": 296
        }
      },
      "source": [
        "# plt.plot(num_labels, ALSS, label=\"Semi-Supervised Active Learning with clustering\")\n",
        "# plt.plot(num_labels, RALSS, label=\"Semi-supervised active learning with random initialisation\")\n",
        "# plt.plot(num_labels, AL, label=\"Active learning with clustering\")\n",
        "# plt.plot(num_labels, RAL, label=\"Active learning with random initialisation\")\n",
        "plt.plot(num_labels, CNN_retrain, label=\"Supervised learning with retraining\")\n",
        "plt.plot(num_labels, CNN, label=\"Supervised learning without retraining\")\n",
        "plt.plot(num_labels, SS, label='Semi-supervised learning')\n",
        "plt.xlabel('Number of labelled images, both pseudo and initial 50')\n",
        "plt.ylabel(\"Accuracy\")\n",
        "plt.axis(ymin=0)\n",
        "plt.legend()"
      ],
      "execution_count": 0,
      "outputs": [
        {
          "output_type": "execute_result",
          "data": {
            "text/plain": [
              "<matplotlib.legend.Legend at 0x7f249c44d390>"
            ]
          },
          "metadata": {
            "tags": []
          },
          "execution_count": 40
        },
        {
          "output_type": "display_data",
          "data": {
            "image/png": "[encoded data removed]",
            "text/plain": [
              "<Figure size 432x288 with 1 Axes>"
            ]
          },
          "metadata": {
            "tags": []
          }
        }
      ]
    },
    {
      "cell_type": "code",
      "metadata": {
        "id": "_B0ybVD8Vmpm",
        "colab_type": "code",
        "outputId": "dcaf1909-c6de-44cb-9a18-c624ef16de4d",
        "colab": {
          "base_uri": "https://localhost:8080/",
          "height": 34
        }
      },
      "source": [
        "CNN_single_test[109]"
      ],
      "execution_count": 0,
      "outputs": [
        {
          "output_type": "execute_result",
          "data": {
            "text/plain": [
              "0.874"
            ]
          },
          "metadata": {
            "tags": []
          },
          "execution_count": 22
        }
      ]
    },
    {
      "cell_type": "code",
      "metadata": {
        "id": "DevLrFHwWFw8",
        "colab_type": "code",
        "outputId": "a651cc6f-a1ea-4e3c-83eb-d57c143619e3",
        "colab": {
          "base_uri": "https://localhost:8080/",
          "height": 451
        }
      },
      "source": [
        "num_labels"
      ],
      "execution_count": 0,
      "outputs": [
        {
          "output_type": "execute_result",
          "data": {
            "text/plain": [
              "array([   50.,   100.,   150.,   200.,   250.,   300.,   350.,   400.,\n",
              "         450.,   500.,   550.,   600.,   650.,   700.,   750.,   800.,\n",
              "         850.,   900.,   950.,  1000.,  1050.,  1100.,  1150.,  1200.,\n",
              "        1250.,  1300.,  1350.,  1400.,  1450.,  1500.,  1550.,  1600.,\n",
              "        1650.,  1700.,  1750.,  1800.,  1850.,  1900.,  1950.,  2000.,\n",
              "        2050.,  2100.,  2150.,  2200.,  2250.,  2300.,  2350.,  2400.,\n",
              "        2450.,  2500.,  2550.,  2600.,  2650.,  2700.,  2750.,  2800.,\n",
              "        2850.,  2900.,  2950.,  3000.,  3050.,  3100.,  3150.,  3200.,\n",
              "        3250.,  3300.,  3350.,  3400.,  3450.,  3500.,  3550.,  3600.,\n",
              "        3650.,  3700.,  3750.,  3800.,  3850.,  3900.,  3950.,  4000.,\n",
              "        4050.,  4100.,  4150.,  4200.,  4250.,  4300.,  4350.,  4400.,\n",
              "        4450.,  4500.,  4550.,  4600.,  4650.,  4700.,  4750.,  4800.,\n",
              "        4850.,  4900.,  4950.,  5000.,  5050.,  5100.,  5150.,  5200.,\n",
              "        5250.,  5300.,  5350.,  5400.,  5450.,  5500.,  5550.,  5600.,\n",
              "        5650.,  5700.,  5750.,  5800.,  5850.,  5900.,  5950.,  6000.,\n",
              "        6050.,  6100.,  6150.,  6200.,  6250.,  6300.,  6350.,  6400.,\n",
              "        6450.,  6500.,  6550.,  6600.,  6650.,  6700.,  6750.,  6800.,\n",
              "        6850.,  6900.,  6950.,  7000.,  7050.,  7100.,  7150.,  7200.,\n",
              "        7250.,  7300.,  7350.,  7400.,  7450.,  7500.,  7550.,  7600.,\n",
              "        7650.,  7700.,  7750.,  7800.,  7850.,  7900.,  7950.,  8000.,\n",
              "        8050.,  8100.,  8150.,  8200.,  8250.,  8300.,  8350.,  8400.,\n",
              "        8450.,  8500.,  8550.,  8600.,  8650.,  8700.,  8750.,  8800.,\n",
              "        8850.,  8900.,  8950.,  9000.,  9050.,  9100.,  9150.,  9200.,\n",
              "        9250.,  9300.,  9350.,  9400.,  9450.,  9500.,  9550.,  9600.,\n",
              "        9650.,  9700.,  9750.,  9800.,  9850.,  9900.,  9950., 10000.])"
            ]
          },
          "metadata": {
            "tags": []
          },
          "execution_count": 35
        }
      ]
    },
    {
      "cell_type": "code",
      "metadata": {
        "id": "bZjT1ZO4zd4Q",
        "colab_type": "code",
        "outputId": "625396c2-6d7f-4f7c-ea2e-f32233670f50",
        "colab": {
          "base_uri": "https://localhost:8080/",
          "height": 52
        }
      },
      "source": [
        "print(\"initial 50 labels\")\n",
        "print(ALSS[0], RALSS[0], AL[0], RAL[0], CNN[0], CNN_retrain[0])"
      ],
      "execution_count": 0,
      "outputs": [
        {
          "output_type": "stream",
          "text": [
            "initial 50 labels\n",
            "0.4488 0.5768 0.4669 0.5884 0.6089 0.4935\n"
          ],
          "name": "stdout"
        }
      ]
    },
    {
      "cell_type": "code",
      "metadata": {
        "id": "D0OIwzNU4bmm",
        "colab_type": "code",
        "outputId": "5e4946a2-1b7d-4441-fcac-63d265a82cd8",
        "colab": {
          "base_uri": "https://localhost:8080/",
          "height": 52
        }
      },
      "source": [
        "print(\"after 100 labels\")\n",
        "x=1\n",
        "print(ALSS[x], RALSS[x], AL[x], RAL[x], CNN[x], CNN_retrain[x])"
      ],
      "execution_count": 0,
      "outputs": [
        {
          "output_type": "stream",
          "text": [
            "after 100 labels\n",
            "0.4892 0.6776 0.532 0.7075 0.6538 0.6832\n"
          ],
          "name": "stdout"
        }
      ]
    },
    {
      "cell_type": "code",
      "metadata": {
        "id": "DoW_nc_T4eGm",
        "colab_type": "code",
        "outputId": "61826ad0-96c7-44fd-c60b-df1028e6ec4e",
        "colab": {
          "base_uri": "https://localhost:8080/",
          "height": 52
        }
      },
      "source": [
        "print(\"after 200 labels\")\n",
        "x=3\n",
        "print(ALSS[x], RALSS[x], AL[x], RAL[x], CNN[x], CNN_retrain[x])"
      ],
      "execution_count": 0,
      "outputs": [
        {
          "output_type": "stream",
          "text": [
            "after 200 labels\n",
            "0.6221 0.7459 0.6939 0.7155 0.692 0.7459\n"
          ],
          "name": "stdout"
        }
      ]
    },
    {
      "cell_type": "code",
      "metadata": {
        "id": "kf9JEGlo4p-J",
        "colab_type": "code",
        "outputId": "89d59c0e-f28c-45e5-ba6a-e389a7fcfba3",
        "colab": {
          "base_uri": "https://localhost:8080/",
          "height": 52
        }
      },
      "source": [
        "print(\"after 300 labels\")\n",
        "x=5\n",
        "print(ALSS[x], RALSS[x], AL[x], RAL[x], CNN[x], CNN_retrain[x])"
      ],
      "execution_count": 0,
      "outputs": [
        {
          "output_type": "stream",
          "text": [
            "after 300 labels\n",
            "0.7321 0.7635 0.7321 0.7509 0.7618 0.7979\n"
          ],
          "name": "stdout"
        }
      ]
    },
    {
      "cell_type": "code",
      "metadata": {
        "id": "F-F-03ozBDy-",
        "colab_type": "code",
        "outputId": "ab81138f-7ad5-4da2-d2ce-e5d6e9ed53d2",
        "colab": {
          "base_uri": "https://localhost:8080/",
          "height": 52
        }
      },
      "source": [
        "print(\"after 500 labels\")\n",
        "x=9\n",
        "print(ALSS[x], RALSS[x], AL[x], RAL[x], CNN[x], CNN_retrain[x])"
      ],
      "execution_count": 0,
      "outputs": [
        {
          "output_type": "stream",
          "text": [
            "after 500 labels\n",
            "0.793 0.7833 0.7966 0.7976 0.8045 0.8158\n"
          ],
          "name": "stdout"
        }
      ]
    },
    {
      "cell_type": "code",
      "metadata": {
        "id": "2V1u4Oy24T_G",
        "colab_type": "code",
        "outputId": "4eaa3b05-fd3d-434b-be9d-e6ddc5dc2f4f",
        "colab": {
          "base_uri": "https://localhost:8080/",
          "height": 52
        }
      },
      "source": [
        "print(\"after 600 labels\")\n",
        "x=11\n",
        "print(ALSS[x], RALSS[x], AL[x], RAL[x], CNN[x], CNN_retrain[x])"
      ],
      "execution_count": 0,
      "outputs": [
        {
          "output_type": "stream",
          "text": [
            "after 600 labels\n",
            "0.8088 0.8062 0.8055 0.7972 0.8073 0.8183\n"
          ],
          "name": "stdout"
        }
      ]
    },
    {
      "cell_type": "code",
      "metadata": {
        "id": "nZXP3PmY4E2X",
        "colab_type": "code",
        "outputId": "90647a53-349e-417a-cb08-d54452fa299a",
        "colab": {
          "base_uri": "https://localhost:8080/",
          "height": 52
        }
      },
      "source": [
        "print(\"after 1250 labels\")\n",
        "x=24\n",
        "print(ALSS[x], RALSS[x], AL[x], RAL[x], CNN[x], CNN_retrain[x])"
      ],
      "execution_count": 0,
      "outputs": [
        {
          "output_type": "stream",
          "text": [
            "after 1250 labels\n",
            "0.8486 0.8537 0.851 0.8547 0.8262 0.8349\n"
          ],
          "name": "stdout"
        }
      ]
    },
    {
      "cell_type": "code",
      "metadata": {
        "id": "jtgx1DbJ2Xpg",
        "colab_type": "code",
        "outputId": "1c17744f-cf3c-4ecd-efd0-bfb34a7ccafe",
        "colab": {
          "base_uri": "https://localhost:8080/",
          "height": 52
        }
      },
      "source": [
        "print(\"after 2500 labels\")\n",
        "x=49\n",
        "print(ALSS[x], RALSS[x], AL[x], RAL[x], CNN[x], CNN_retrain[x])"
      ],
      "execution_count": 0,
      "outputs": [
        {
          "output_type": "stream",
          "text": [
            "after 2500 labels\n",
            "0.8938 0.8888 0.8888 0.8886 0.8496 0.8595\n"
          ],
          "name": "stdout"
        }
      ]
    },
    {
      "cell_type": "code",
      "metadata": {
        "id": "TfwKIJ3k3qLq",
        "colab_type": "code",
        "outputId": "14d06255-3a1e-4553-d54f-be6966d25251",
        "colab": {
          "base_uri": "https://localhost:8080/",
          "height": 52
        }
      },
      "source": [
        "print(\"after 5000 labels\")\n",
        "x=99\n",
        "print(ALSS[x], RALSS[x], AL[x], RAL[x], CNN[x], CNN_retrain[x])"
      ],
      "execution_count": 0,
      "outputs": [
        {
          "output_type": "stream",
          "text": [
            "after 5000 labels\n",
            "0.9082 0.9142 0.9131 0.9138 0.872 0.8795\n"
          ],
          "name": "stdout"
        }
      ]
    },
    {
      "cell_type": "code",
      "metadata": {
        "id": "fVRCM8y59LZk",
        "colab_type": "code",
        "outputId": "04aa8863-47bc-43ac-e54d-21d099dc3c87",
        "colab": {
          "base_uri": "https://localhost:8080/",
          "height": 52
        }
      },
      "source": [
        "print(\"after 5500 labels\")\n",
        "x=109\n",
        "print(ALSS[x], RALSS[x], AL[x], RAL[x], CNN[x], CNN_retrain[x])"
      ],
      "execution_count": 0,
      "outputs": [
        {
          "output_type": "stream",
          "text": [
            "after 5500 labels\n",
            "0.9152 0.914 0.9148 0.9133 0.874 0.8859\n"
          ],
          "name": "stdout"
        }
      ]
    },
    {
      "cell_type": "code",
      "metadata": {
        "id": "o9ETKqPG871q",
        "colab_type": "code",
        "outputId": "191bde14-b5b1-402f-bbf3-442c60df57f4",
        "colab": {
          "base_uri": "https://localhost:8080/",
          "height": 52
        }
      },
      "source": [
        "print(\"after 6500 labels\")\n",
        "x=129\n",
        "print(ALSS[x], RALSS[x], AL[x], RAL[x], CNN[x], CNN_retrain[x])"
      ],
      "execution_count": 0,
      "outputs": [
        {
          "output_type": "stream",
          "text": [
            "after 6500 labels\n",
            "0.9182 0.915 0.9149 0.9159 0.8785 0.889\n"
          ],
          "name": "stdout"
        }
      ]
    },
    {
      "cell_type": "code",
      "metadata": {
        "id": "0VwYpmXjFx85",
        "colab_type": "code",
        "outputId": "94a08a00-97ca-4a8c-babd-20dd455c805c",
        "colab": {
          "base_uri": "https://localhost:8080/",
          "height": 52
        }
      },
      "source": [
        "print(\"after 7000 labels\")\n",
        "x=139\n",
        "print(ALSS[x], RALSS[x], AL[x], RAL[x], CNN[x], CNN_retrain[x])"
      ],
      "execution_count": 0,
      "outputs": [
        {
          "output_type": "stream",
          "text": [
            "after 7000 labels\n",
            "0.917 0.9159 0.9058 0.91 0.8792 0.885\n"
          ],
          "name": "stdout"
        }
      ]
    },
    {
      "cell_type": "code",
      "metadata": {
        "id": "zh5SfiCL33tY",
        "colab_type": "code",
        "outputId": "053d5da5-9aba-43ae-90c5-e5301353b0b7",
        "colab": {
          "base_uri": "https://localhost:8080/",
          "height": 52
        }
      },
      "source": [
        "print(\"after 7500 labels\")\n",
        "x=149\n",
        "print(ALSS[x], RALSS[x], AL[x], RAL[x], CNN[x], CNN_retrain[x])"
      ],
      "execution_count": 0,
      "outputs": [
        {
          "output_type": "stream",
          "text": [
            "after 7500 labels\n",
            "0.919 0.9172 0.8903 0.914 0.8836 0.8909\n"
          ],
          "name": "stdout"
        }
      ]
    },
    {
      "cell_type": "code",
      "metadata": {
        "id": "TwSZ-dKaF5D2",
        "colab_type": "code",
        "outputId": "05031aa3-eb57-46a6-b4c9-a6aec6130761",
        "colab": {
          "base_uri": "https://localhost:8080/",
          "height": 52
        }
      },
      "source": [
        "print(\"after 8000 labels\")\n",
        "x=159\n",
        "print(ALSS[x], RALSS[x], AL[x], RAL[x], CNN[x], CNN_retrain[x])"
      ],
      "execution_count": 0,
      "outputs": [
        {
          "output_type": "stream",
          "text": [
            "after 8000 labels\n",
            "0.9209 0.9176 0.8998 0.9121 0.8845 0.8932\n"
          ],
          "name": "stdout"
        }
      ]
    },
    {
      "cell_type": "code",
      "metadata": {
        "id": "RmAl3gO9GIfz",
        "colab_type": "code",
        "outputId": "a5a0c226-c04b-4bfa-8077-cd09569b1a1f",
        "colab": {
          "base_uri": "https://localhost:8080/",
          "height": 52
        }
      },
      "source": [
        "print(\"after 8500 labels\")\n",
        "x=169\n",
        "print(ALSS[x], RALSS[x], AL[x], RAL[x], CNN[x], CNN_retrain[x])"
      ],
      "execution_count": 0,
      "outputs": [
        {
          "output_type": "stream",
          "text": [
            "after 8500 labels\n",
            "0.9186 0.9188 0.9175 0.9141 0.8794 0.8971\n"
          ],
          "name": "stdout"
        }
      ]
    },
    {
      "cell_type": "code",
      "metadata": {
        "id": "d393PN4LGCq-",
        "colab_type": "code",
        "outputId": "42901808-33ad-42eb-c0fc-4c501414edf6",
        "colab": {
          "base_uri": "https://localhost:8080/",
          "height": 52
        }
      },
      "source": [
        "print(\"after 9000 labels\")\n",
        "x=179\n",
        "print(ALSS[x], RALSS[x], AL[x], RAL[x], CNN[x], CNN_retrain[x])"
      ],
      "execution_count": 0,
      "outputs": [
        {
          "output_type": "stream",
          "text": [
            "after 9000 labels\n",
            "0.9214 0.9188 0.9135 0.9174 0.8956 0.8952\n"
          ],
          "name": "stdout"
        }
      ]
    },
    {
      "cell_type": "code",
      "metadata": {
        "id": "g7NzcYiY1XVq",
        "colab_type": "code",
        "outputId": "e7d44e2c-f7e6-4590-da90-d5b85520cd54",
        "colab": {
          "base_uri": "https://localhost:8080/",
          "height": 52
        }
      },
      "source": [
        "print(\"after 10000 labels\")\n",
        "print(ALSS[199], RALSS[199], AL[199], RAL[199], CNN[199], CNN_retrain[199])"
      ],
      "execution_count": 0,
      "outputs": [
        {
          "output_type": "stream",
          "text": [
            "after 10000 labels\n",
            "0.9198 0.9174 0.9179 0.9204 0.8985 0.8971\n"
          ],
          "name": "stdout"
        }
      ]
    },
    {
      "cell_type": "code",
      "metadata": {
        "id": "5PX2Q2UM2Nf5",
        "colab_type": "code",
        "outputId": "5e5b4de7-39b6-428e-c678-473824b2d23a",
        "colab": {
          "base_uri": "https://localhost:8080/",
          "height": 34
        }
      },
      "source": [
        "num_labels[179]"
      ],
      "execution_count": 0,
      "outputs": [
        {
          "output_type": "execute_result",
          "data": {
            "text/plain": [
              "9000.0"
            ]
          },
          "metadata": {
            "tags": []
          },
          "execution_count": 22
        }
      ]
    },
    {
      "cell_type": "code",
      "metadata": {
        "id": "o2A0DN2u2fMq",
        "colab_type": "code",
        "outputId": "a00b61b9-5d49-42c8-b64e-7c5d3e7614ad",
        "colab": {
          "base_uri": "https://localhost:8080/",
          "height": 34
        }
      },
      "source": [
        "1250/2"
      ],
      "execution_count": 0,
      "outputs": [
        {
          "output_type": "execute_result",
          "data": {
            "text/plain": [
              "625.0"
            ]
          },
          "metadata": {
            "tags": []
          },
          "execution_count": 58
        }
      ]
    },
    {
      "cell_type": "code",
      "metadata": {
        "id": "7Jcf4o9I4P3W",
        "colab_type": "code",
        "outputId": "9346dcf4-1651-4129-e103-23e188b3d420",
        "colab": {
          "base_uri": "https://localhost:8080/",
          "height": 34
        }
      },
      "source": [
        "SS[199]"
      ],
      "execution_count": 0,
      "outputs": [
        {
          "output_type": "execute_result",
          "data": {
            "text/plain": [
              "0.8969"
            ]
          },
          "metadata": {
            "tags": []
          },
          "execution_count": 25
        }
      ]
    },
    {
      "cell_type": "code",
      "metadata": {
        "id": "Yruk6uQELWYN",
        "colab_type": "code",
        "colab": {}
      },
      "source": [
        "pseudo = loadtxt(\"drive/My Drive/BD/pseudo_labels.txt\", delimiter=\"\\n\")"
      ],
      "execution_count": 0,
      "outputs": []
    },
    {
      "cell_type": "code",
      "metadata": {
        "id": "WvE0gavKM-yp",
        "colab_type": "code",
        "colab": {}
      },
      "source": [
        "actual = loadtxt(\"drive/My Drive/BD/actual_labels.txt\", delimiter=\"\\n\")"
      ],
      "execution_count": 0,
      "outputs": []
    },
    {
      "cell_type": "code",
      "metadata": {
        "id": "bptj4GT1ND2b",
        "colab_type": "code",
        "outputId": "a71ce6e1-4f5f-44c2-c503-bb3cae4228ad",
        "colab": {
          "base_uri": "https://localhost:8080/",
          "height": 34
        }
      },
      "source": [
        "np.mean( pseudo != actual )"
      ],
      "execution_count": 0,
      "outputs": [
        {
          "output_type": "execute_result",
          "data": {
            "text/plain": [
              "0.0108"
            ]
          },
          "metadata": {
            "tags": []
          },
          "execution_count": 35
        }
      ]
    },
    {
      "cell_type": "code",
      "metadata": {
        "id": "sS6NgEksNjGP",
        "colab_type": "code",
        "outputId": "a939cb4b-7750-4532-c80e-868ab1f8ebcc",
        "colab": {
          "base_uri": "https://localhost:8080/",
          "height": 34
        }
      },
      "source": [
        "np.mean(pseudo==actual)"
      ],
      "execution_count": 0,
      "outputs": [
        {
          "output_type": "execute_result",
          "data": {
            "text/plain": [
              "0.9892"
            ]
          },
          "metadata": {
            "tags": []
          },
          "execution_count": 36
        }
      ]
    },
    {
      "cell_type": "code",
      "metadata": {
        "id": "fP7UB40eNuuf",
        "colab_type": "code",
        "colab": {}
      },
      "source": [
        ""
      ],
      "execution_count": 0,
      "outputs": []
    }
  ]
}